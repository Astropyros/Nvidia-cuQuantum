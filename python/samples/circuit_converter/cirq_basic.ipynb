{
 "cells": [
  {
   "cell_type": "markdown",
   "id": "a0c197cf-6f83-4d55-b4bf-3355de744422",
   "metadata": {},
   "source": [
    "Copyright (c) 2021-2022, NVIDIA CORPORATION & AFFILIATES\n",
    "\n",
    "SPDX-License-Identifier: BSD-3-Clause"
   ]
  },
  {
   "cell_type": "markdown",
   "id": "5b1be696-e54c-48c6-aef3-7bacf0106d1c",
   "metadata": {},
   "source": [
    "In this notebook, we use a simple example to show how to use `cuquantum.CircuitToEinsum` \n",
    "to take a `cirq.Circuit` instance and run basic quantum circuit simulation using cuTensorNet."
   ]
  },
  {
   "cell_type": "code",
   "execution_count": 1,
   "id": "ba172395-11aa-4ad4-a550-961adf61d92a",
   "metadata": {},
   "outputs": [],
   "source": [
    "import cirq\n",
    "from cirq.testing import random_circuit\n",
    "import cupy as cp\n",
    "import numpy as np\n",
    "\n",
    "from cuquantum import contract, CircuitToEinsum"
   ]
  },
  {
   "cell_type": "markdown",
   "id": "7d56bfb9-1202-47c5-9a42-c7c98dbac55b",
   "metadata": {},
   "source": [
    "## Generate a random quantum circuit\n",
    "\n",
    "The generated `circuit` object is of type `cirq.Circuit`."
   ]
  },
  {
   "cell_type": "code",
   "execution_count": 2,
   "id": "04587a25-4a5d-45ee-86f9-4146b31d9bed",
   "metadata": {},
   "outputs": [
    {
     "name": "stdout",
     "output_type": "stream",
     "text": [
      "      ┌──┐       ┌──┐   ┌──┐   ┌───┐   ┌──┐\n",
      "0: ────H─────@────T──────H────────X─────X─────\n",
      "             │                    │     │\n",
      "1: ────@─────X─────@─────────────@┼─────┼S────\n",
      "       │           │             ││     │\n",
      "2: ────┼H────H────H┼─────@──────T┼┼─────┼─────\n",
      "       │           │     │       ││     │\n",
      "3: ────@──────────S┼─────┼H──────┼┼─────┼─────\n",
      "                   │     │       ││     │\n",
      "4: ────────────────X─────┼───────X┼─────@─────\n",
      "                         │        │\n",
      "5: ────T──────────S──────┼────────@─────X─────\n",
      "                         │              │\n",
      "6: ────T─────H───────────@──────T───────@─────\n",
      "      └──┘       └──┘   └──┘   └───┘   └──┘\n"
     ]
    }
   ],
   "source": [
    "num_qubits = 7\n",
    "n_moments = 6\n",
    "op_density = 0.9\n",
    "gate_domain = {cirq.H: 1, \n",
    "               cirq.S: 1, \n",
    "               cirq.T: 1, \n",
    "               cirq.CNOT: 2, \n",
    "               cirq.CZ: 2}\n",
    "\n",
    "circuit = random_circuit(num_qubits, n_moments, op_density=op_density, gate_domain=gate_domain, random_state=6)\n",
    "print(circuit)"
   ]
  },
  {
   "cell_type": "markdown",
   "id": "8ea04ad3-5db6-4b8d-8319-a2b7824a5034",
   "metadata": {},
   "source": [
    "## Construct the converter object targeting double precision\n",
    "\n",
    "In this example, we generate the tensor operands as CuPy arrays (by setting `backend=cupy`)."
   ]
  },
  {
   "cell_type": "code",
   "execution_count": 3,
   "id": "9b10a78a-4f9a-43ac-b9af-9cbc530c517c",
   "metadata": {},
   "outputs": [],
   "source": [
    "myconverter = CircuitToEinsum(circuit, dtype='complex128', backend=cp)"
   ]
  },
  {
   "cell_type": "markdown",
   "id": "d7cdb912-1e53-435a-b6ae-b2b814a50380",
   "metadata": {},
   "source": [
    "### compute state vector $|\\psi\\rangle$"
   ]
  },
  {
   "cell_type": "code",
   "execution_count": 4,
   "id": "51bf874b-c046-4e7e-b78f-824425a25d70",
   "metadata": {},
   "outputs": [
    {
     "name": "stdout",
     "output_type": "stream",
     "text": [
      "wavefunction coefficient shape: (2, 2, 2, 2, 2, 2, 2)\n",
      "is sv in agreement? True\n"
     ]
    }
   ],
   "source": [
    "expression, operands = myconverter.state_vector()\n",
    "sv = contract(expression, *operands)\n",
    "print(f'wavefunction coefficient shape: {sv.shape}')\n",
    "\n",
    "# check if the computed statevector is correct\n",
    "simulator = cirq.Simulator(dtype=np.complex128)\n",
    "result = simulator.simulate(circuit)\n",
    "sv_cirq = result.state_vector().reshape((2,)*num_qubits)\n",
    "print(f\"is sv in agreement?\", cp.allclose(sv, sv_cirq))"
   ]
  },
  {
   "cell_type": "markdown",
   "id": "b968212c-b785-4a91-9e0e-5cc91758869e",
   "metadata": {},
   "source": [
    "### calculate bitstring amplitude $\\langle b| \\psi\\rangle$"
   ]
  },
  {
   "cell_type": "code",
   "execution_count": 5,
   "id": "b0c89d1e-1081-4bda-a2e8-8157ecdb45ae",
   "metadata": {},
   "outputs": [
    {
     "name": "stdout",
     "output_type": "stream",
     "text": [
      "einsum expression:\n",
      "a,b,c,d,e,f,g,ha,ijdb,kg,lf,mc,nm,ok,pqhj,ri,sp,tl,uvqe,wn,xs,yzwo,Ar,By,CDuv,EFtx,Gz,HIDF,JC,KLGE,I,J,B,A,H,L,K->\n",
      "\n",
      "for bitstring 0000000, amplitude: (0.17677669529663717+0j), probability: 0.031250000000000104\n",
      "\n",
      "difference from state vector: 0.0\n"
     ]
    }
   ],
   "source": [
    "bitstring = '0000000'\n",
    "\n",
    "expression, operands = myconverter.amplitude(bitstring)\n",
    "print(f'einsum expression:\\n{expression}\\n')\n",
    "\n",
    "amplitude = contract(expression, *operands)\n",
    "probability = abs(amplitude) ** 2\n",
    "print(f'for bitstring {bitstring}, amplitude: {amplitude}, probability: {probability}\\n')\n",
    "\n",
    "amplitude_from_sv = sv[0,0,0,0,0,0,0]\n",
    "amp_diff = abs(amplitude-amplitude_from_sv)\n",
    "print(f'difference from state vector: {amp_diff}')"
   ]
  },
  {
   "cell_type": "markdown",
   "id": "cc22ffa5-92b8-4978-a6a9-c7e4ec731bd6",
   "metadata": {},
   "source": [
    "### compute reduced density matrix $\\rho\\left( {\\bar{p}|b_{\\bar{f}}} \\right) = Tr_{\\bar{p}}\\langle b_{\\bar{f}}|\\psi_{\\bar{f}\\cup\\bar{p}}\\rangle \\langle \\psi_{\\bar{f}\\cup\\bar{p}}\\rangle| b_{\\bar{f}} \\rangle$\n",
    "\n",
    "In this example, we construct the reduced density matrix of qubits 0 & 1 (so the returned RDM should have $2^2\\times2^2=16$ elements), with qubits 3 & 4 fixed at state 0"
   ]
  },
  {
   "cell_type": "code",
   "execution_count": 6,
   "id": "75170ff5-8b17-43c3-9220-610680cd4f39",
   "metadata": {},
   "outputs": [
    {
     "name": "stdout",
     "output_type": "stream",
     "text": [
      "shape of reduced density matrix: (2, 2, 2, 2)\n",
      "is rdm in agreement? True\n"
     ]
    }
   ],
   "source": [
    "qubits = sorted(circuit.all_qubits())  # ensure we can index the qubits correctly\n",
    "where = qubits[:2]\n",
    "fixed = {qubits[3]: '0',\n",
    "         qubits[4]: '0'}\n",
    "\n",
    "# we set lightcone=True to reduce the size of the tensor network\n",
    "expression, operands = myconverter.reduced_density_matrix(where, fixed=fixed, lightcone=True)\n",
    "rdm = contract(expression, *operands)\n",
    "print(f'shape of reduced density matrix: {rdm.shape}')\n",
    "\n",
    "# check if the computed RDM is correct\n",
    "rdm_from_sv = contract('abefg, ABefg->abAB', sv[:, :, :, 0, 0], sv[:, :, :, 0, 0].conj())\n",
    "print(f\"is rdm in agreement?\", cp.allclose(rdm, rdm_from_sv))\n"
   ]
  }
 ],
 "metadata": {
  "kernelspec": {
   "display_name": "Python 3 (ipykernel)",
   "language": "python",
   "name": "python3"
  },
  "language_info": {
   "codemirror_mode": {
    "name": "ipython",
    "version": 3
   },
   "file_extension": ".py",
   "mimetype": "text/x-python",
   "name": "python",
   "nbconvert_exporter": "python",
   "pygments_lexer": "ipython3",
   "version": "3.8.10"
  }
 },
 "nbformat": 4,
 "nbformat_minor": 5
}
